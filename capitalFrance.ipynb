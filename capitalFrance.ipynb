{
 "cells": [
  {
   "cell_type": "code",
   "execution_count": 30,
   "metadata": {},
   "outputs": [],
   "source": [
    "from gpt4all import GPT4All"
   ]
  },
  {
   "cell_type": "code",
   "execution_count": 64,
   "metadata": {},
   "outputs": [],
   "source": [
    "model = GPT4All(model_name='orca-mini-3b-gguf2-q4_0.gguf')\n",
    "\n",
    "responseFromAI = []\n",
    "\n",
    "with model.chat_session():\n",
    "    response1 = model.generate(prompt='Hello', temp=0)\n",
    "    responseFromAI = model.current_chat_session\n",
    "\n"
   ]
  },
  {
   "cell_type": "code",
   "execution_count": 65,
   "metadata": {},
   "outputs": [
    {
     "name": "stdout",
     "output_type": "stream",
     "text": [
      "Aryan =  Hello\n",
      "AI =   Hello! How may I assist you today?\n"
     ]
    }
   ],
   "source": [
    "print(\"Aryan = \", responseFromAI[1][\"content\"])\n",
    "print(\"AI = \", responseFromAI[2][\"content\"])\n"
   ]
  }
 ],
 "metadata": {
  "kernelspec": {
   "display_name": "Python 3",
   "language": "python",
   "name": "python3"
  },
  "language_info": {
   "codemirror_mode": {
    "name": "ipython",
    "version": 3
   },
   "file_extension": ".py",
   "mimetype": "text/x-python",
   "name": "python",
   "nbconvert_exporter": "python",
   "pygments_lexer": "ipython3",
   "version": "3.10.0"
  }
 },
 "nbformat": 4,
 "nbformat_minor": 2
}
